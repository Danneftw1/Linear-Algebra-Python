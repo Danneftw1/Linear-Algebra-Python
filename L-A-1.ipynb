{
 "cells": [
  {
   "cell_type": "markdown",
   "metadata": {},
   "source": [
    "# Linear Algebra Basics\n",
    "- Linear algebra is all about organizing numbers into vectors and matrixes in order to implement computations."
   ]
  },
  {
   "cell_type": "code",
   "execution_count": null,
   "metadata": {},
   "outputs": [],
   "source": [
    "import numpy as np\n",
    "\n"
   ]
  }
 ],
 "metadata": {
  "kernelspec": {
   "display_name": "Python 3.9.13 ('Databehandling-Daniel-Nilsson-e3Fmcrgn')",
   "language": "python",
   "name": "python3"
  },
  "language_info": {
   "name": "python",
   "version": "3.9.13"
  },
  "orig_nbformat": 4,
  "vscode": {
   "interpreter": {
    "hash": "d4fec72ab05724b7e31743b682cfdc6d5ccc9586e3681b01cc6aa0944cba3a81"
   }
  }
 },
 "nbformat": 4,
 "nbformat_minor": 2
}
