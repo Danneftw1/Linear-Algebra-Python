{
 "cells": [
  {
   "cell_type": "markdown",
   "metadata": {},
   "source": [
    "# 1.10\n",
    "*KOLLA TILLBAKA PÅ DENNA UPPGIFT*\n",
    "- $x+2y-z=1$\n",
    "- $3x-y-2z=9$\n",
    "- $3x+4y+7z=-5$\n",
    "- $2x-2y-z=7$"
   ]
  },
  {
   "cell_type": "code",
   "execution_count": 10,
   "metadata": {},
   "outputs": [
    {
     "name": "stdout",
     "output_type": "stream",
     "text": [
      "(Matrix([\n",
      "[1, 0, 0,  2],\n",
      "[0, 1, 0, -1],\n",
      "[0, 0, 1, -1],\n",
      "[0, 0, 0,  0]]), (0, 1, 2))\n"
     ]
    }
   ],
   "source": [
    "from sympy import *\n",
    "m = Matrix(\n",
    "    [[1, 2, -1, 1], \n",
    "    [3, -1, -2, 9], \n",
    "    [3, 4, 7, -5], \n",
    "    [2, -2, -1, 7]]\n",
    ")\n",
    "print(m.rref())"
   ]
  },
  {
   "cell_type": "markdown",
   "metadata": {},
   "source": [
    "# 1.11\n",
    "- $x-2y+z=1$\n",
    "- $2x-6y+6z=4$\n",
    "- $-3x+5y-z=-2$"
   ]
  },
  {
   "cell_type": "code",
   "execution_count": 11,
   "metadata": {},
   "outputs": [
    {
     "name": "stdout",
     "output_type": "stream",
     "text": [
      "(Matrix([\n",
      "[1, 0, -3, -1],\n",
      "[0, 1, -2, -1],\n",
      "[0, 0,  0,  0]]), (0, 1))\n"
     ]
    }
   ],
   "source": [
    "from sympy import *\n",
    "\n",
    "m = Matrix(\n",
    "    [[1, -2, 1, 1], \n",
    "    [2, -6, 6, 4], \n",
    "    [-3, 5, -1, -2]]\n",
    ")\n",
    "\n",
    "print(m.rref())"
   ]
  },
  {
   "cell_type": "markdown",
   "metadata": {},
   "source": [
    "- Vi har fått pivotpositioner för $x$ och $y$ men inte för z, och kan alltså välja $z$ fritt.\n",
    "- Låt $z=t$, där $tER$ är godtyckligt. Den andra ekvationen blir då: $-2y + 4t = 2$ vilket ger $y=-1+2t$.\n",
    "- Sätter vi in detta i den första ekvationen får vi: $x-2(-1+2t)+t=1$, dvs. $x=-1+3t$.\n",
    "- Lösningarna till ekvationssytemet blir alltså $(x,y,z) = (-1+3t, -1+2t,t) tER$.\n",
    "- *Viktigt*: Svaret kan skrivas på oändligt många korrekt sätt.\n",
    "- *SVAR*: $(x,y,z) = (-1+3t, -1+2t,t)$"
   ]
  },
  {
   "cell_type": "markdown",
   "metadata": {},
   "source": [
    "# 1.12\n",
    "\n",
    "- $x-y+2=4$\n",
    "- $2x+y-z=1$\n",
    "- $3x+3y-4z=-2$"
   ]
  },
  {
   "cell_type": "code",
   "execution_count": 12,
   "metadata": {},
   "outputs": [
    {
     "name": "stdout",
     "output_type": "stream",
     "text": [
      "(Matrix([\n",
      "[1, 0,  1/3,  5/3],\n",
      "[0, 1, -5/3, -7/3],\n",
      "[0, 0,    0,    0]]), (0, 1))\n"
     ]
    }
   ],
   "source": [
    "m = Matrix(\n",
    "    [[1, -1, 2, 4], \n",
    "    [2, 1, -1, 1], \n",
    "    [3, 3, -4, -2]]\n",
    ")\n",
    "\n",
    "print(m.rref())"
   ]
  },
  {
   "cell_type": "markdown",
   "metadata": {},
   "source": [
    "# 1.13\n",
    "- $x+2y-z=3$\n",
    "- $x-y+2z=6$"
   ]
  },
  {
   "cell_type": "code",
   "execution_count": 13,
   "metadata": {},
   "outputs": [
    {
     "name": "stdout",
     "output_type": "stream",
     "text": [
      "(Matrix([\n",
      "[1, 0,  1,  5],\n",
      "[0, 1, -1, -1]]), (0, 1))\n"
     ]
    }
   ],
   "source": [
    "m = Matrix(\n",
    "    [[1, 2, -1, 3], \n",
    "    [1, -1, 2, 6]]\n",
    ")\n",
    "\n",
    "print(m.rref())"
   ]
  },
  {
   "cell_type": "markdown",
   "metadata": {},
   "source": [
    "# 1.15\n",
    "- $x+2y+3z+4w=1$\n",
    "- $y-3z-w=5$"
   ]
  },
  {
   "cell_type": "code",
   "execution_count": 14,
   "metadata": {},
   "outputs": [
    {
     "name": "stdout",
     "output_type": "stream",
     "text": [
      "(Matrix([\n",
      "[1, 0,  9,  6, -9],\n",
      "[0, 1, -3, -1,  5]]), (0, 1))\n"
     ]
    }
   ],
   "source": [
    "m = Matrix(\n",
    "    [[1, 2, 3, 4, 1], \n",
    "    [0, 1, -3, -1, 5]]\n",
    ")\n",
    "\n",
    "print(m.rref())"
   ]
  },
  {
   "cell_type": "markdown",
   "metadata": {},
   "source": [
    "# 1.17\n",
    "*Lös för varje värde på $a$ ekvationssystemet*\n",
    "- $2x^1+x^2-x^3+3x^4-3x^5=0$\n",
    "- $3x^1+2x^2+x^3+2x^4+2x^5=0$\n",
    "- $-4x^1+3x^2+2x^3+x^4+4x^5=0$"
   ]
  },
  {
   "cell_type": "code",
   "execution_count": 15,
   "metadata": {},
   "outputs": [
    {
     "name": "stdout",
     "output_type": "stream",
     "text": [
      "(Matrix([\n",
      "[1, 0, 0,   4/25,  1/25, 0],\n",
      "[0, 1, 0,    7/5,  -2/5, 0],\n",
      "[0, 0, 1, -32/25, 67/25, 0]]), (0, 1, 2))\n"
     ]
    }
   ],
   "source": [
    "m = Matrix(\n",
    "    [[2, 1, -1, 3, -3, 0], \n",
    "    [3, 2, 1, 2, 2, 0],\n",
    "    [-4, 3, 2, 1, 4, 0]]\n",
    ")\n",
    "print(m.rref())"
   ]
  }
 ],
 "metadata": {
  "kernelspec": {
   "display_name": "Python 3.9.13 ('Linear-Algebra-Python-ghgtiJgj')",
   "language": "python",
   "name": "python3"
  },
  "language_info": {
   "codemirror_mode": {
    "name": "ipython",
    "version": 3
   },
   "file_extension": ".py",
   "mimetype": "text/x-python",
   "name": "python",
   "nbconvert_exporter": "python",
   "pygments_lexer": "ipython3",
   "version": "3.9.13"
  },
  "orig_nbformat": 4,
  "vscode": {
   "interpreter": {
    "hash": "80cff2bc74322deeea4481fddf8ae3505644e7a461214b1624f93d49de54ec43"
   }
  }
 },
 "nbformat": 4,
 "nbformat_minor": 2
}
