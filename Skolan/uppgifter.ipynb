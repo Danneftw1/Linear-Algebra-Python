{
 "cells": [
  {
   "cell_type": "markdown",
   "metadata": {},
   "source": [
    "# 1.11\n",
    "- $x-2y+z=1$\n",
    "- $2x-6y+6z=4$\n",
    "- $-3x+5y-z=-2$"
   ]
  },
  {
   "cell_type": "code",
   "execution_count": 7,
   "metadata": {},
   "outputs": [
    {
     "name": "stdout",
     "output_type": "stream",
     "text": [
      "(Matrix([\n",
      "[1, 0, -3, -1],\n",
      "[0, 1, -2, -1],\n",
      "[0, 0,  0,  0]]), (0, 1))\n"
     ]
    }
   ],
   "source": [
    "from sympy import *\n",
    "\n",
    "m = Matrix(\n",
    "    [[1, -2, 1, 1], \n",
    "    [2, -6, 6, 4], \n",
    "    [-3, 5, -1, -2]]\n",
    ")\n",
    "\n",
    "print(m.rref())"
   ]
  },
  {
   "cell_type": "markdown",
   "metadata": {},
   "source": [
    "- Vi har fått pivotpositioner för $x$ och $y$ men inte för z, och kan alltså välja $z$ fritt.\n",
    "- Låt $z=t$, där $tER$ är godtyckligt. Den andra ekvationen blir då: $-2y + 4t = 2$ vilket ger $y=-1+2t$.\n",
    "- Sätter vi in detta i den första ekvationen får vi: $x-2(-1+2t)+t=1$, dvs. $x=-1+3t$.\n",
    "- Lösningarna till ekvationssytemet blir alltså $(x,y,z) = (-1+3t, -1+2t,t) tER$.\n",
    "- *Viktigt*: Svaret kan skrivas på oändligt många korrekt sätt.\n",
    "- *SVAR*: $(x,y,z) = (-1+3t, -1+2t,t)$"
   ]
  },
  {
   "cell_type": "markdown",
   "metadata": {},
   "source": [
    "# 1.12\n",
    "\n",
    "- $x-y+2=4$\n",
    "- $2x+y-z=1$\n",
    "- $3x+3y-4z=-2$"
   ]
  },
  {
   "cell_type": "code",
   "execution_count": 8,
   "metadata": {},
   "outputs": [
    {
     "name": "stdout",
     "output_type": "stream",
     "text": [
      "(Matrix([\n",
      "[1, 0,  1/3,  5/3],\n",
      "[0, 1, -5/3, -7/3],\n",
      "[0, 0,    0,    0]]), (0, 1))\n"
     ]
    }
   ],
   "source": [
    "m = Matrix(\n",
    "    [[1, -1, 2, 4], \n",
    "    [2, 1, -1, 1], \n",
    "    [3, 3, -4, -2]]\n",
    ")\n",
    "\n",
    "print(m.rref())"
   ]
  }
 ],
 "metadata": {
  "kernelspec": {
   "display_name": "Python 3.9.13 ('Linear-Algebra-Python-jIq4woG9')",
   "language": "python",
   "name": "python3"
  },
  "language_info": {
   "codemirror_mode": {
    "name": "ipython",
    "version": 3
   },
   "file_extension": ".py",
   "mimetype": "text/x-python",
   "name": "python",
   "nbconvert_exporter": "python",
   "pygments_lexer": "ipython3",
   "version": "3.9.13"
  },
  "orig_nbformat": 4,
  "vscode": {
   "interpreter": {
    "hash": "7a0fc0da903bc78e1ce23c50c0e8f3ee46f8e2c8bd62f334aa217f38e945410e"
   }
  }
 },
 "nbformat": 4,
 "nbformat_minor": 2
}
