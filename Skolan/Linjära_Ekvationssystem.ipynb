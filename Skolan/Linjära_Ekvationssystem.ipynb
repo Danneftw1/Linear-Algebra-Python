{
 "cells": [
  {
   "cell_type": "markdown",
   "metadata": {},
   "source": [
    "## Saker vi får göra i ekvationssytem\n",
    "1. Byta rader\n",
    "2. Multiplicera rad med värde != 0\n",
    "3. Addera en multipel av en rad till en annan."
   ]
  },
  {
   "cell_type": "code",
   "execution_count": 1,
   "metadata": {},
   "outputs": [
    {
     "name": "stdout",
     "output_type": "stream",
     "text": [
      "A = [[1, 4, 5, 12], [-5, 8, 9, 0], [-6, 7, 11, 19]]\n",
      "A[1] = [-5, 8, 9, 0]\n",
      "A[1][2] = 9\n",
      "A[0][-1] = 12\n",
      "3rd column = [5, 9, 11]\n"
     ]
    }
   ],
   "source": [
    "A = [[1, 4, 5, 12], \n",
    "    [-5, 8, 9, 0],\n",
    "    [-6, 7, 11, 19]]\n",
    "\n",
    "print(\"A =\", A) \n",
    "print(\"A[1] =\", A[1])      # 2nd row\n",
    "print(\"A[1][2] =\", A[1][2])   # 3rd element of 2nd row\n",
    "print(\"A[0][-1] =\", A[0][-1])   # Last element of 1st Row\n",
    "\n",
    "column = [];        # empty list\n",
    "for row in A:\n",
    "  column.append(row[2])   \n",
    "\n",
    "print(\"3rd column =\", column)"
   ]
  },
  {
   "cell_type": "code",
   "execution_count": 1,
   "metadata": {},
   "outputs": [
    {
     "name": "stdout",
     "output_type": "stream",
     "text": [
      "A[:,0] = [ 1 -5 -6]\n",
      "A[:,3] = [12  0 19]\n",
      "A[:,-1] = [12  0 19]\n"
     ]
    }
   ],
   "source": [
    "import numpy as np\n",
    "\n",
    "A = np.array([[1, 4, 5, 12], \n",
    "    [-5, 8, 9, 0],\n",
    "    [-6, 7, 11, 19]])\n",
    "\n",
    "print(\"A[:,0] =\",A[:,0]) # First Column\n",
    "print(\"A[:,3] =\", A[:,3]) # Fourth Column\n",
    "print(\"A[:,-1] =\", A[:,-1]) # Last Column (4th column in this case)"
   ]
  },
  {
   "cell_type": "code",
   "execution_count": 2,
   "metadata": {},
   "outputs": [],
   "source": [
    "from sympy import *\n",
    "\n",
    "init_printing(use_unicode=True)\n"
   ]
  },
  {
   "cell_type": "markdown",
   "metadata": {},
   "source": [
    "### Trappstegsmetod = Row echelon form (rref)"
   ]
  },
  {
   "cell_type": "markdown",
   "metadata": {},
   "source": [
    "- x = obekanta variabler (vanligtvis)\n",
    "- a och b är höger- och vänsterled (vanligtvis)\n",
    "- s & t är bekanta variabler (vanligtvis)\n",
    "- En matris med bara en kolonn kallas för kolonnmatris eller vektor"
   ]
  },
  {
   "cell_type": "code",
   "execution_count": 13,
   "metadata": {},
   "outputs": [],
   "source": [
    "m = Matrix([[1, -1], [3, 4], [0, 2]])\n",
    "\n",
    "\n",
    "# Den blir snyggare version om man endast retunerar variabeln\n",
    "# Den extra tupeln i slutet är pivotkolumnerna"
   ]
  },
  {
   "cell_type": "code",
   "execution_count": 12,
   "metadata": {},
   "outputs": [
    {
     "name": "stdout",
     "output_type": "stream",
     "text": [
      "(Matrix([\n",
      "[1, -2, 0, 0, 3],\n",
      "[0,  0, 1, 0, 2],\n",
      "[0,  0, 0, 1, 1],\n",
      "[0,  0, 0, 0, 0]]), (0, 2, 3))\n"
     ]
    }
   ],
   "source": [
    "M = Matrix(\n",
    "    [[1, -2, 3, 5, 14], \n",
    "    [-2, 4, -5, -10, -26], \n",
    "    [2, -4, 6, 11, 29], \n",
    "    [-1, 2, -2, -5, -12]]\n",
    ")\n",
    "\n",
    "print(M.rref())\n",
    "# 'print(m.rref())' gör att det ser ut som nedan\n",
    "# 'rref' räknar bara ut trappstegsmetoden (gauselimination)"
   ]
  },
  {
   "cell_type": "markdown",
   "metadata": {},
   "source": [
    "- Betrakta en matris $A e R^nxp$\n",
    "- Antalet kolumner i matrisen ska vara samma som antalet rader i vektorn\n",
    "- Sedan gångrar man raden i vektorn med kolumnen i matrisen\n",
    "- Till sist plussar man ihop allt. Den slutliga vektorn kommer ha lika många rader som matrisen hade från början"
   ]
  },
  {
   "cell_type": "code",
   "execution_count": 1,
   "metadata": {},
   "outputs": [
    {
     "name": "stdout",
     "output_type": "stream",
     "text": [
      "[[-0.11111111  0.22222222]\n",
      " [ 0.33333333 -0.16666667]]\n"
     ]
    }
   ],
   "source": [
    "import numpy as np\n",
    "\n",
    "A = np.array([[3, 4],\n",
    "              [6, 2]])\n",
    "  \n",
    "# Calculating the inverse of the matrix\n",
    "print(np.linalg.inv(A))"
   ]
  },
  {
   "cell_type": "code",
   "execution_count": null,
   "metadata": {},
   "outputs": [],
   "source": [
    "A = np.array([[6, -11],\n",
    "              [-11, 22]])"
   ]
  },
  {
   "cell_type": "code",
   "execution_count": 5,
   "metadata": {},
   "outputs": [
    {
     "name": "stdout",
     "output_type": "stream",
     "text": [
      "[[11.]\n",
      " [16.]]\n"
     ]
    }
   ],
   "source": [
    "# T is a function from R^3 to R^2\n",
    "\n",
    "def T(u):\n",
    "    v = np.zeros((2, 1))\n",
    "    v[0] = u[0] + 2*u[1]\n",
    "    v[1] = 3*u[1] + 4*u[2]\n",
    "    return v\n",
    "\n",
    "u = np.matrix([3, 4, 1]).T\n",
    "\n",
    "print(T(u))"
   ]
  },
  {
   "cell_type": "code",
   "execution_count": null,
   "metadata": {},
   "outputs": [],
   "source": []
  }
 ],
 "metadata": {
  "kernelspec": {
   "display_name": "Linear-Algebra-Python-jIq4woG9",
   "language": "python",
   "name": "python3"
  },
  "language_info": {
   "codemirror_mode": {
    "name": "ipython",
    "version": 3
   },
   "file_extension": ".py",
   "mimetype": "text/x-python",
   "name": "python",
   "nbconvert_exporter": "python",
   "pygments_lexer": "ipython3",
   "version": "3.9.13 (tags/v3.9.13:6de2ca5, May 17 2022, 16:36:42) [MSC v.1929 64 bit (AMD64)]"
  },
  "orig_nbformat": 4,
  "vscode": {
   "interpreter": {
    "hash": "7a0fc0da903bc78e1ce23c50c0e8f3ee46f8e2c8bd62f334aa217f38e945410e"
   }
  }
 },
 "nbformat": 4,
 "nbformat_minor": 2
}
